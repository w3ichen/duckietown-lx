{
 "cells": [
  {
   "cell_type": "code",
   "execution_count": 1,
   "metadata": {},
   "outputs": [
    {
     "name": "stderr",
     "output_type": "stream",
     "text": [
      "DEBUG:commons:version: 6.2.4 *\n",
      "DEBUG:typing:version: 6.2.3\n",
      "DEBUG:geometry:PyGeometry-z6 version 2.1.4 path /usr/local/lib/python3.8/dist-packages\n"
     ]
    }
   ],
   "source": [
    "import ipywidgets as widgets\n",
    "import duckietown_code_utils as dcu\n",
    "import cv2\n",
    "import numpy as np\n",
    "from matplotlib import pyplot as plt\n"
   ]
  },
  {
   "cell_type": "code",
   "execution_count": 2,
   "metadata": {},
   "outputs": [
    {
     "ename": "ValueError",
     "evalue": "File does not exist: ../../assets/samples/big-duck/big-duck-08.jpg",
     "output_type": "error",
     "traceback": [
      "\u001b[0;31m---------------------------------------------------------------------------\u001b[0m",
      "\u001b[0;31mValueError\u001b[0m                                Traceback (most recent call last)",
      "Cell \u001b[0;32mIn[2], line 4\u001b[0m\n\u001b[1;32m      1\u001b[0m titles \u001b[38;5;241m=\u001b[39m [\u001b[38;5;124m'\u001b[39m\u001b[38;5;124mH\u001b[39m\u001b[38;5;124m'\u001b[39m, \u001b[38;5;124m'\u001b[39m\u001b[38;5;124mS\u001b[39m\u001b[38;5;124m'\u001b[39m, \u001b[38;5;124m'\u001b[39m\u001b[38;5;124mV\u001b[39m\u001b[38;5;124m'\u001b[39m]\n\u001b[1;32m      2\u001b[0m fn \u001b[38;5;241m=\u001b[39m \u001b[38;5;124m'\u001b[39m\u001b[38;5;124m../../assets/samples/big-duck/big-duck-08.jpg\u001b[39m\u001b[38;5;124m'\u001b[39m\n\u001b[0;32m----> 4\u001b[0m frame0 \u001b[38;5;241m=\u001b[39m \u001b[43mdcu\u001b[49m\u001b[38;5;241;43m.\u001b[39;49m\u001b[43mrgb_from_jpg_fn\u001b[49m\u001b[43m(\u001b[49m\u001b[43mfn\u001b[49m\u001b[43m)\u001b[49m\n\u001b[1;32m      5\u001b[0m sliders \u001b[38;5;241m=\u001b[39m {}\n\u001b[1;32m      6\u001b[0m \u001b[38;5;28;01mfrom\u001b[39;00m \u001b[38;5;21;01mfunctools\u001b[39;00m \u001b[38;5;28;01mimport\u001b[39;00m partial\n",
      "File \u001b[0;32m/usr/local/lib/python3.8/dist-packages/duckietown_code_utils/jpg.py:72\u001b[0m, in \u001b[0;36mrgb_from_jpg_fn\u001b[0;34m(fn)\u001b[0m\n\u001b[1;32m     71\u001b[0m \u001b[39mdef\u001b[39;00m \u001b[39mrgb_from_jpg_fn\u001b[39m(fn: \u001b[39mstr\u001b[39m) \u001b[39m-\u001b[39m\u001b[39m>\u001b[39m NPImageRGB:\n\u001b[0;32m---> 72\u001b[0m     m \u001b[39m=\u001b[39m bgr_from_jpg_fn(fn)\n\u001b[1;32m     73\u001b[0m     \u001b[39mreturn\u001b[39;00m rgb_from_bgr(m)\n",
      "File \u001b[0;32m/usr/local/lib/python3.8/dist-packages/duckietown_code_utils/jpg.py:66\u001b[0m, in \u001b[0;36mbgr_from_jpg_fn\u001b[0;34m(fn)\u001b[0m\n\u001b[1;32m     64\u001b[0m \u001b[39mif\u001b[39;00m \u001b[39mnot\u001b[39;00m os\u001b[39m.\u001b[39mpath\u001b[39m.\u001b[39mexists(fn):\n\u001b[1;32m     65\u001b[0m     msg \u001b[39m=\u001b[39m \u001b[39m\"\u001b[39m\u001b[39mFile does not exist: \u001b[39m\u001b[39m%s\u001b[39;00m\u001b[39m\"\u001b[39m \u001b[39m%\u001b[39m fn\n\u001b[0;32m---> 66\u001b[0m     \u001b[39mraise\u001b[39;00m \u001b[39mValueError\u001b[39;00m(msg)\n\u001b[1;32m     67\u001b[0m data \u001b[39m=\u001b[39m read_bytes_from_file(fn)\n\u001b[1;32m     68\u001b[0m \u001b[39mreturn\u001b[39;00m bgr_from_jpg(data)\n",
      "\u001b[0;31mValueError\u001b[0m: File does not exist: ../../assets/samples/big-duck/big-duck-08.jpg"
     ]
    }
   ],
   "source": [
    "titles = ['H', 'S', 'V']\n",
    "fn = '../../assets/samples/big-duck/big-duck-08.jpg'\n",
    "\n",
    "frame0 = dcu.rgb_from_jpg_fn(fn)\n",
    "sliders = {}\n",
    "from functools import partial\n",
    "\n",
    "\n",
    "def update_caption():\n",
    "    values = get_values()\n",
    "    caption.value  = f'The values are {values}'\n",
    "\n",
    "def on_slider_change(index: int, change):\n",
    "    show_images()\n",
    "    update_caption()\n",
    "\n",
    "for i, title in enumerate(titles):\n",
    "    slider = widgets.IntRangeSlider(\n",
    "    value=[0, 255],\n",
    "    min=0,\n",
    "    max=255,\n",
    "    step=1,\n",
    "    description=title,\n",
    "    disabled=False,\n",
    "    continuous_update=True,\n",
    "    orientation='horizontal',\n",
    "    readout=True,\n",
    "    readout_format='d')\n",
    "    sliders[title] = slider\n",
    "    slider.observe(partial(on_slider_change, i))\n",
    "\n",
    "def get_values():\n",
    "    return {k: _.value for k, _ in sliders.items()}\n",
    "\n",
    "\n",
    "box = widgets.Box(list(sliders.values()))\n",
    "caption = widgets.Label(value=f'The initial values are {get_values()}')\n",
    "\n",
    "display(box, caption)\n",
    "f, ax = plt.subplots(1, 2, figsize=(16,6)) \n",
    "\n",
    "def show_images():\n",
    "    print('computing')\n",
    "    frame = frame0\n",
    "    hsv = cv2.cvtColor(frame0, cv2.COLOR_BGR2HSV)\n",
    "    values = get_values()\n",
    "    lower_hsv = np.array([values['H'][0],values['S'][0],values['V'][0],])\n",
    "    higher_hsv = np.array([values['H'][1],values['S'][1],values['V'][1],])\n",
    "    print('computing', higher_hsv)\n",
    "    # Apply the cv2.inrange method to create a mask\n",
    "    mask = cv2.inRange(hsv, lower_hsv, higher_hsv)\n",
    "    # Apply the mask on the image to extract the original color\n",
    "    frame = cv2.bitwise_and(frame, frame, mask=mask)\n",
    "\n",
    "    ax[0].imshow(frame0)\n",
    "    ax[1].imshow(frame)\n",
    " \n",
    "    plt.show() \n",
    "\n",
    "show_images()"
   ]
  }
 ],
 "metadata": {
  "kernelspec": {
   "display_name": "Python 3.8.10 64-bit",
   "language": "python",
   "name": "python3"
  },
  "language_info": {
   "codemirror_mode": {
    "name": "ipython",
    "version": 3
   },
   "file_extension": ".py",
   "mimetype": "text/x-python",
   "name": "python",
   "nbconvert_exporter": "python",
   "pygments_lexer": "ipython3",
   "version": "3.8.10"
  },
  "vscode": {
   "interpreter": {
    "hash": "916dbcbb3f70747c44a77c7bcd40155683ae19c65e1c03b4aa3499c5328201f1"
   }
  }
 },
 "nbformat": 4,
 "nbformat_minor": 0
}
