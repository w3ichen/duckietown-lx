{
  "nbformat": 4,
  "nbformat_minor": 0,
  "metadata": {
    "colab": {
      "provenance": []
    },
    "kernelspec": {
      "name": "python3",
      "display_name": "Python 3"
    },
    "accelerator": "GPU",
    "widgets": {
      "application/vnd.jupyter.widget-state+json": {
        "fd4443dd24524ebf94eebe0840e10a3b": {
          "model_module": "@jupyter-widgets/controls",
          "model_name": "HBoxModel",
          "model_module_version": "1.5.0",
          "state": {
            "_dom_classes": [],
            "_model_module": "@jupyter-widgets/controls",
            "_model_module_version": "1.5.0",
            "_model_name": "HBoxModel",
            "_view_count": null,
            "_view_module": "@jupyter-widgets/controls",
            "_view_module_version": "1.5.0",
            "_view_name": "HBoxView",
            "box_style": "",
            "children": [
              "IPY_MODEL_92ac944b98754dd79f0862eb1b8545ed",
              "IPY_MODEL_5db7c6d4d58a4df4bd58ce96153854f8",
              "IPY_MODEL_c2d48097cf0b4136ae760c52f6e4ef29"
            ],
            "layout": "IPY_MODEL_034d2a62edf94c85bdd058945430159b"
          }
        },
        "92ac944b98754dd79f0862eb1b8545ed": {
          "model_module": "@jupyter-widgets/controls",
          "model_name": "HTMLModel",
          "model_module_version": "1.5.0",
          "state": {
            "_dom_classes": [],
            "_model_module": "@jupyter-widgets/controls",
            "_model_module_version": "1.5.0",
            "_model_name": "HTMLModel",
            "_view_count": null,
            "_view_module": "@jupyter-widgets/controls",
            "_view_module_version": "1.5.0",
            "_view_name": "HTMLView",
            "description": "",
            "description_tooltip": null,
            "layout": "IPY_MODEL_d5c67577e57a45eb9b22e8e08b28bb27",
            "placeholder": "​",
            "style": "IPY_MODEL_f01d43f6f38e48f2a70f09544fe01adf",
            "value": "100%"
          }
        },
        "5db7c6d4d58a4df4bd58ce96153854f8": {
          "model_module": "@jupyter-widgets/controls",
          "model_name": "FloatProgressModel",
          "model_module_version": "1.5.0",
          "state": {
            "_dom_classes": [],
            "_model_module": "@jupyter-widgets/controls",
            "_model_module_version": "1.5.0",
            "_model_name": "FloatProgressModel",
            "_view_count": null,
            "_view_module": "@jupyter-widgets/controls",
            "_view_module_version": "1.5.0",
            "_view_name": "ProgressView",
            "bar_style": "success",
            "description": "",
            "description_tooltip": null,
            "layout": "IPY_MODEL_f506a5ecb7654a10bc83582e1b50b756",
            "max": 170498071,
            "min": 0,
            "orientation": "horizontal",
            "style": "IPY_MODEL_f0bb06eba6204ffba48e299173367fe3",
            "value": 170498071
          }
        },
        "c2d48097cf0b4136ae760c52f6e4ef29": {
          "model_module": "@jupyter-widgets/controls",
          "model_name": "HTMLModel",
          "model_module_version": "1.5.0",
          "state": {
            "_dom_classes": [],
            "_model_module": "@jupyter-widgets/controls",
            "_model_module_version": "1.5.0",
            "_model_name": "HTMLModel",
            "_view_count": null,
            "_view_module": "@jupyter-widgets/controls",
            "_view_module_version": "1.5.0",
            "_view_name": "HTMLView",
            "description": "",
            "description_tooltip": null,
            "layout": "IPY_MODEL_f32b8bf6be524d0da224366f30f8b487",
            "placeholder": "​",
            "style": "IPY_MODEL_9a3c633466d3438f95e24e994584d3b3",
            "value": " 170498071/170498071 [00:01&lt;00:00, 107111159.07it/s]"
          }
        },
        "034d2a62edf94c85bdd058945430159b": {
          "model_module": "@jupyter-widgets/base",
          "model_name": "LayoutModel",
          "model_module_version": "1.2.0",
          "state": {
            "_model_module": "@jupyter-widgets/base",
            "_model_module_version": "1.2.0",
            "_model_name": "LayoutModel",
            "_view_count": null,
            "_view_module": "@jupyter-widgets/base",
            "_view_module_version": "1.2.0",
            "_view_name": "LayoutView",
            "align_content": null,
            "align_items": null,
            "align_self": null,
            "border": null,
            "bottom": null,
            "display": null,
            "flex": null,
            "flex_flow": null,
            "grid_area": null,
            "grid_auto_columns": null,
            "grid_auto_flow": null,
            "grid_auto_rows": null,
            "grid_column": null,
            "grid_gap": null,
            "grid_row": null,
            "grid_template_areas": null,
            "grid_template_columns": null,
            "grid_template_rows": null,
            "height": null,
            "justify_content": null,
            "justify_items": null,
            "left": null,
            "margin": null,
            "max_height": null,
            "max_width": null,
            "min_height": null,
            "min_width": null,
            "object_fit": null,
            "object_position": null,
            "order": null,
            "overflow": null,
            "overflow_x": null,
            "overflow_y": null,
            "padding": null,
            "right": null,
            "top": null,
            "visibility": null,
            "width": null
          }
        },
        "d5c67577e57a45eb9b22e8e08b28bb27": {
          "model_module": "@jupyter-widgets/base",
          "model_name": "LayoutModel",
          "model_module_version": "1.2.0",
          "state": {
            "_model_module": "@jupyter-widgets/base",
            "_model_module_version": "1.2.0",
            "_model_name": "LayoutModel",
            "_view_count": null,
            "_view_module": "@jupyter-widgets/base",
            "_view_module_version": "1.2.0",
            "_view_name": "LayoutView",
            "align_content": null,
            "align_items": null,
            "align_self": null,
            "border": null,
            "bottom": null,
            "display": null,
            "flex": null,
            "flex_flow": null,
            "grid_area": null,
            "grid_auto_columns": null,
            "grid_auto_flow": null,
            "grid_auto_rows": null,
            "grid_column": null,
            "grid_gap": null,
            "grid_row": null,
            "grid_template_areas": null,
            "grid_template_columns": null,
            "grid_template_rows": null,
            "height": null,
            "justify_content": null,
            "justify_items": null,
            "left": null,
            "margin": null,
            "max_height": null,
            "max_width": null,
            "min_height": null,
            "min_width": null,
            "object_fit": null,
            "object_position": null,
            "order": null,
            "overflow": null,
            "overflow_x": null,
            "overflow_y": null,
            "padding": null,
            "right": null,
            "top": null,
            "visibility": null,
            "width": null
          }
        },
        "f01d43f6f38e48f2a70f09544fe01adf": {
          "model_module": "@jupyter-widgets/controls",
          "model_name": "DescriptionStyleModel",
          "model_module_version": "1.5.0",
          "state": {
            "_model_module": "@jupyter-widgets/controls",
            "_model_module_version": "1.5.0",
            "_model_name": "DescriptionStyleModel",
            "_view_count": null,
            "_view_module": "@jupyter-widgets/base",
            "_view_module_version": "1.2.0",
            "_view_name": "StyleView",
            "description_width": ""
          }
        },
        "f506a5ecb7654a10bc83582e1b50b756": {
          "model_module": "@jupyter-widgets/base",
          "model_name": "LayoutModel",
          "model_module_version": "1.2.0",
          "state": {
            "_model_module": "@jupyter-widgets/base",
            "_model_module_version": "1.2.0",
            "_model_name": "LayoutModel",
            "_view_count": null,
            "_view_module": "@jupyter-widgets/base",
            "_view_module_version": "1.2.0",
            "_view_name": "LayoutView",
            "align_content": null,
            "align_items": null,
            "align_self": null,
            "border": null,
            "bottom": null,
            "display": null,
            "flex": null,
            "flex_flow": null,
            "grid_area": null,
            "grid_auto_columns": null,
            "grid_auto_flow": null,
            "grid_auto_rows": null,
            "grid_column": null,
            "grid_gap": null,
            "grid_row": null,
            "grid_template_areas": null,
            "grid_template_columns": null,
            "grid_template_rows": null,
            "height": null,
            "justify_content": null,
            "justify_items": null,
            "left": null,
            "margin": null,
            "max_height": null,
            "max_width": null,
            "min_height": null,
            "min_width": null,
            "object_fit": null,
            "object_position": null,
            "order": null,
            "overflow": null,
            "overflow_x": null,
            "overflow_y": null,
            "padding": null,
            "right": null,
            "top": null,
            "visibility": null,
            "width": null
          }
        },
        "f0bb06eba6204ffba48e299173367fe3": {
          "model_module": "@jupyter-widgets/controls",
          "model_name": "ProgressStyleModel",
          "model_module_version": "1.5.0",
          "state": {
            "_model_module": "@jupyter-widgets/controls",
            "_model_module_version": "1.5.0",
            "_model_name": "ProgressStyleModel",
            "_view_count": null,
            "_view_module": "@jupyter-widgets/base",
            "_view_module_version": "1.2.0",
            "_view_name": "StyleView",
            "bar_color": null,
            "description_width": ""
          }
        },
        "f32b8bf6be524d0da224366f30f8b487": {
          "model_module": "@jupyter-widgets/base",
          "model_name": "LayoutModel",
          "model_module_version": "1.2.0",
          "state": {
            "_model_module": "@jupyter-widgets/base",
            "_model_module_version": "1.2.0",
            "_model_name": "LayoutModel",
            "_view_count": null,
            "_view_module": "@jupyter-widgets/base",
            "_view_module_version": "1.2.0",
            "_view_name": "LayoutView",
            "align_content": null,
            "align_items": null,
            "align_self": null,
            "border": null,
            "bottom": null,
            "display": null,
            "flex": null,
            "flex_flow": null,
            "grid_area": null,
            "grid_auto_columns": null,
            "grid_auto_flow": null,
            "grid_auto_rows": null,
            "grid_column": null,
            "grid_gap": null,
            "grid_row": null,
            "grid_template_areas": null,
            "grid_template_columns": null,
            "grid_template_rows": null,
            "height": null,
            "justify_content": null,
            "justify_items": null,
            "left": null,
            "margin": null,
            "max_height": null,
            "max_width": null,
            "min_height": null,
            "min_width": null,
            "object_fit": null,
            "object_position": null,
            "order": null,
            "overflow": null,
            "overflow_x": null,
            "overflow_y": null,
            "padding": null,
            "right": null,
            "top": null,
            "visibility": null,
            "width": null
          }
        },
        "9a3c633466d3438f95e24e994584d3b3": {
          "model_module": "@jupyter-widgets/controls",
          "model_name": "DescriptionStyleModel",
          "model_module_version": "1.5.0",
          "state": {
            "_model_module": "@jupyter-widgets/controls",
            "_model_module_version": "1.5.0",
            "_model_name": "DescriptionStyleModel",
            "_view_count": null,
            "_view_module": "@jupyter-widgets/base",
            "_view_module_version": "1.2.0",
            "_view_name": "StyleView",
            "description_width": ""
          }
        }
      }
    }
  },
  "cells": [
    {
      "cell_type": "markdown",
      "metadata": {
        "id": "BlmQIFSLZDdc"
      },
      "source": [
        "# Duckietown Intro to Neural Nets with PyTorch\n"
      ]
    },
    {
      "cell_type": "markdown",
      "metadata": {
        "id": "9B1SZliCuVWB"
      },
      "source": [
        "\n",
        "## Prerequisites\n",
        "\n",
        "**Step 1:** install pytorch.\n",
        "\n",
        "\n",
        "**Important:** the following cell is only needed for this notebook. If you're installing pytorch on your own computer (which you totally can, even without a NVIDIA GPU), then please use the instructions from here: https://pytorch.org/get-started/locally/\n",
        "\n",
        "Note that this will take a few seconds."
      ]
    },
    {
      "cell_type": "code",
      "metadata": {
        "id": "_V-jaj13tl07",
        "colab": {
          "base_uri": "https://localhost:8080/"
        },
        "outputId": "b37cbdc4-9f9f-4bff-e9ae-f0bb08e38c0e"
      },
      "source": [
        "# http://pytorch.org/\n",
        "!pip install torch==1.13.0 torchvision==0.14.0"
      ],
      "execution_count": 1,
      "outputs": [
        {
          "output_type": "stream",
          "name": "stdout",
          "text": [
            "Collecting torch==1.13.0\n",
            "  Downloading torch-1.13.0-cp310-cp310-manylinux1_x86_64.whl (890.1 MB)\n",
            "\u001b[2K     \u001b[90m━━━━━━━━━━━━━━━━━━━━━━━━━━━━━━━━━━━━━━━━\u001b[0m \u001b[32m890.1/890.1 MB\u001b[0m \u001b[31m980.6 kB/s\u001b[0m eta \u001b[36m0:00:00\u001b[0m\n",
            "\u001b[?25hCollecting torchvision==0.14.0\n",
            "  Downloading torchvision-0.14.0-cp310-cp310-manylinux1_x86_64.whl (24.3 MB)\n",
            "\u001b[2K     \u001b[90m━━━━━━━━━━━━━━━━━━━━━━━━━━━━━━━━━━━━━━━━\u001b[0m \u001b[32m24.3/24.3 MB\u001b[0m \u001b[31m40.5 MB/s\u001b[0m eta \u001b[36m0:00:00\u001b[0m\n",
            "\u001b[?25hRequirement already satisfied: typing-extensions in /usr/local/lib/python3.10/dist-packages (from torch==1.13.0) (4.5.0)\n",
            "Collecting nvidia-cuda-runtime-cu11==11.7.99 (from torch==1.13.0)\n",
            "  Downloading nvidia_cuda_runtime_cu11-11.7.99-py3-none-manylinux1_x86_64.whl (849 kB)\n",
            "\u001b[2K     \u001b[90m━━━━━━━━━━━━━━━━━━━━━━━━━━━━━━━━━━━━━━━━\u001b[0m \u001b[32m849.3/849.3 kB\u001b[0m \u001b[31m62.5 MB/s\u001b[0m eta \u001b[36m0:00:00\u001b[0m\n",
            "\u001b[?25hCollecting nvidia-cudnn-cu11==8.5.0.96 (from torch==1.13.0)\n",
            "  Downloading nvidia_cudnn_cu11-8.5.0.96-2-py3-none-manylinux1_x86_64.whl (557.1 MB)\n",
            "\u001b[2K     \u001b[90m━━━━━━━━━━━━━━━━━━━━━━━━━━━━━━━━━━━━━━━━\u001b[0m \u001b[32m557.1/557.1 MB\u001b[0m \u001b[31m3.0 MB/s\u001b[0m eta \u001b[36m0:00:00\u001b[0m\n",
            "\u001b[?25hCollecting nvidia-cublas-cu11==11.10.3.66 (from torch==1.13.0)\n",
            "  Downloading nvidia_cublas_cu11-11.10.3.66-py3-none-manylinux1_x86_64.whl (317.1 MB)\n",
            "\u001b[2K     \u001b[90m━━━━━━━━━━━━━━━━━━━━━━━━━━━━━━━━━━━━━━━━\u001b[0m \u001b[32m317.1/317.1 MB\u001b[0m \u001b[31m4.3 MB/s\u001b[0m eta \u001b[36m0:00:00\u001b[0m\n",
            "\u001b[?25hCollecting nvidia-cuda-nvrtc-cu11==11.7.99 (from torch==1.13.0)\n",
            "  Downloading nvidia_cuda_nvrtc_cu11-11.7.99-2-py3-none-manylinux1_x86_64.whl (21.0 MB)\n",
            "\u001b[2K     \u001b[90m━━━━━━━━━━━━━━━━━━━━━━━━━━━━━━━━━━━━━━━━\u001b[0m \u001b[32m21.0/21.0 MB\u001b[0m \u001b[31m47.6 MB/s\u001b[0m eta \u001b[36m0:00:00\u001b[0m\n",
            "\u001b[?25hRequirement already satisfied: numpy in /usr/local/lib/python3.10/dist-packages (from torchvision==0.14.0) (1.23.5)\n",
            "Requirement already satisfied: requests in /usr/local/lib/python3.10/dist-packages (from torchvision==0.14.0) (2.31.0)\n",
            "Requirement already satisfied: pillow!=8.3.*,>=5.3.0 in /usr/local/lib/python3.10/dist-packages (from torchvision==0.14.0) (9.4.0)\n",
            "Requirement already satisfied: setuptools in /usr/local/lib/python3.10/dist-packages (from nvidia-cublas-cu11==11.10.3.66->torch==1.13.0) (67.7.2)\n",
            "Requirement already satisfied: wheel in /usr/local/lib/python3.10/dist-packages (from nvidia-cublas-cu11==11.10.3.66->torch==1.13.0) (0.42.0)\n",
            "Requirement already satisfied: charset-normalizer<4,>=2 in /usr/local/lib/python3.10/dist-packages (from requests->torchvision==0.14.0) (3.3.2)\n",
            "Requirement already satisfied: idna<4,>=2.5 in /usr/local/lib/python3.10/dist-packages (from requests->torchvision==0.14.0) (3.6)\n",
            "Requirement already satisfied: urllib3<3,>=1.21.1 in /usr/local/lib/python3.10/dist-packages (from requests->torchvision==0.14.0) (2.0.7)\n",
            "Requirement already satisfied: certifi>=2017.4.17 in /usr/local/lib/python3.10/dist-packages (from requests->torchvision==0.14.0) (2023.11.17)\n",
            "Installing collected packages: nvidia-cuda-runtime-cu11, nvidia-cuda-nvrtc-cu11, nvidia-cublas-cu11, nvidia-cudnn-cu11, torch, torchvision\n",
            "  Attempting uninstall: torch\n",
            "    Found existing installation: torch 2.1.0+cu121\n",
            "    Uninstalling torch-2.1.0+cu121:\n",
            "      Successfully uninstalled torch-2.1.0+cu121\n",
            "  Attempting uninstall: torchvision\n",
            "    Found existing installation: torchvision 0.16.0+cu121\n",
            "    Uninstalling torchvision-0.16.0+cu121:\n",
            "      Successfully uninstalled torchvision-0.16.0+cu121\n",
            "\u001b[31mERROR: pip's dependency resolver does not currently take into account all the packages that are installed. This behaviour is the source of the following dependency conflicts.\n",
            "torchaudio 2.1.0+cu121 requires torch==2.1.0, but you have torch 1.13.0 which is incompatible.\n",
            "torchdata 0.7.0 requires torch==2.1.0, but you have torch 1.13.0 which is incompatible.\n",
            "torchtext 0.16.0 requires torch==2.1.0, but you have torch 1.13.0 which is incompatible.\u001b[0m\u001b[31m\n",
            "\u001b[0mSuccessfully installed nvidia-cublas-cu11-11.10.3.66 nvidia-cuda-nvrtc-cu11-11.7.99 nvidia-cuda-runtime-cu11-11.7.99 nvidia-cudnn-cu11-8.5.0.96 torch-1.13.0 torchvision-0.14.0\n"
          ]
        }
      ]
    },
    {
      "cell_type": "markdown",
      "metadata": {
        "id": "bkCJV_gfXUYJ"
      },
      "source": [
        "**Step 2:** import and check that torch works"
      ]
    },
    {
      "cell_type": "code",
      "metadata": {
        "id": "rRMEa74queCT",
        "colab": {
          "base_uri": "https://localhost:8080/"
        },
        "outputId": "bf52ba38-d84c-4e75-a9d7-3acbb939bf5e"
      },
      "source": [
        "import torch\n",
        "\n",
        "torch.rand(2)"
      ],
      "execution_count": 2,
      "outputs": [
        {
          "output_type": "execute_result",
          "data": {
            "text/plain": [
              "tensor([0.5343, 0.1011])"
            ]
          },
          "metadata": {},
          "execution_count": 2
        }
      ]
    },
    {
      "cell_type": "markdown",
      "metadata": {
        "id": "8iYd9zKqX29Y"
      },
      "source": [
        "**Step 3:** Convert from numpy to torch and back"
      ]
    },
    {
      "cell_type": "code",
      "metadata": {
        "id": "9RrRuCa2X2uS",
        "colab": {
          "base_uri": "https://localhost:8080/"
        },
        "outputId": "26a07aca-8217-48b2-914e-bd5006aefa16"
      },
      "source": [
        "import numpy as np\n",
        "\n",
        "a_npy = np.eye(4)\n",
        "print (a_npy)\n",
        "\n",
        "a_tor = torch.from_numpy(a_npy) # convert numpy to torch Tensor\n",
        "print (a_tor)\n",
        "\n",
        "b_npy = a_tor.numpy() # convert Tensor back to numpy\n",
        "print (b_npy)"
      ],
      "execution_count": 3,
      "outputs": [
        {
          "output_type": "stream",
          "name": "stdout",
          "text": [
            "[[1. 0. 0. 0.]\n",
            " [0. 1. 0. 0.]\n",
            " [0. 0. 1. 0.]\n",
            " [0. 0. 0. 1.]]\n",
            "tensor([[1., 0., 0., 0.],\n",
            "        [0., 1., 0., 0.],\n",
            "        [0., 0., 1., 0.],\n",
            "        [0., 0., 0., 1.]], dtype=torch.float64)\n",
            "[[1. 0. 0. 0.]\n",
            " [0. 1. 0. 0.]\n",
            " [0. 0. 1. 0.]\n",
            " [0. 0. 0. 1.]]\n"
          ]
        }
      ]
    },
    {
      "cell_type": "markdown",
      "metadata": {
        "id": "IY8M4tyoX4kj"
      },
      "source": [
        "**Step 4:** Notice that if you change the data EITHER in numpy or torch, you're changing it in both"
      ]
    },
    {
      "cell_type": "code",
      "metadata": {
        "id": "PoKov5Tluf1M",
        "colab": {
          "base_uri": "https://localhost:8080/"
        },
        "outputId": "62362884-aec1-4ad5-e521-f50c6faed3c9"
      },
      "source": [
        "a_npy[0,3] = 99 # we're only changing the numpy array\n",
        "\n",
        "a_tor[1,3] = 123 # we're only changing the torch Tensor\n",
        "\n",
        "print (a_npy) # no we're not\n",
        "print (a_tor)\n",
        "print (b_npy)"
      ],
      "execution_count": 4,
      "outputs": [
        {
          "output_type": "stream",
          "name": "stdout",
          "text": [
            "[[  1.   0.   0.  99.]\n",
            " [  0.   1.   0. 123.]\n",
            " [  0.   0.   1.   0.]\n",
            " [  0.   0.   0.   1.]]\n",
            "tensor([[  1.,   0.,   0.,  99.],\n",
            "        [  0.,   1.,   0., 123.],\n",
            "        [  0.,   0.,   1.,   0.],\n",
            "        [  0.,   0.,   0.,   1.]], dtype=torch.float64)\n",
            "[[  1.   0.   0.  99.]\n",
            " [  0.   1.   0. 123.]\n",
            " [  0.   0.   1.   0.]\n",
            " [  0.   0.   0.   1.]]\n"
          ]
        }
      ]
    },
    {
      "cell_type": "markdown",
      "metadata": {
        "id": "cv_zr57vZffq"
      },
      "source": [
        "**Step 5:** Other than that, PyTorch is just like Numpy... but all the things are called different names"
      ]
    },
    {
      "cell_type": "code",
      "metadata": {
        "id": "nrscWsCfZFxV",
        "colab": {
          "base_uri": "https://localhost:8080/"
        },
        "outputId": "2f95bfe7-9d3f-489d-a145-a837797decd3"
      },
      "source": [
        "# These things do the same thing, but have different names and one is a property,\n",
        "# the other one is a function.\n",
        "\n",
        "print (a_npy.shape)\n",
        "print (a_tor.size())\n",
        "\n",
        "# Most (not all) things that you can do in Numpy, you can also do in PyTorch,\n",
        "# but you have to google what they are called\n"
      ],
      "execution_count": 5,
      "outputs": [
        {
          "output_type": "stream",
          "name": "stdout",
          "text": [
            "(4, 4)\n",
            "torch.Size([4, 4])\n"
          ]
        }
      ]
    },
    {
      "cell_type": "markdown",
      "metadata": {
        "id": "TIZfifIsaNJk"
      },
      "source": [
        "## Neural Nets\n",
        "\n",
        "**Step 6:** This is how you define a neural net in PyTorch\n",
        "\n",
        "**IMPORTANT:** read the comments. It's crucial that you understand what's happening. If something is unclear, ask on stack overflow with the label #neural-nets. It is easy to make simple mistakes when working with neural networks, so it is better to ask for help as early as possible."
      ]
    },
    {
      "cell_type": "code",
      "metadata": {
        "id": "lnNsk4fsaCNy"
      },
      "source": [
        "import torch # we already did this, but just in case you want to\n",
        "# copy-paste this code block\n",
        "\n",
        "import torch.nn as nn # functions for neural nets, like layers and loss function\n",
        "import torch.nn.functional as F #  these are helper functions liks sigmoid, relu, etc\n",
        "\n",
        "# what's missing here is the import for the optimizer\n",
        "\n",
        "\n",
        "# you need to create a class that inherits from nn.Module\n",
        "\n",
        "class Net(nn.Module):\n",
        "    def __init__(self):\n",
        "        # Here in the init function you only create the layers that you want to\n",
        "        # use later on. You're not actually connecting them to anything here.\n",
        "        # So you can create them in any order.\n",
        "\n",
        "        super(Net, self).__init__()\n",
        "\n",
        "        # 3 color channels input, 6 convolutional kernels -> 6 channels output,\n",
        "        # and also 5x5 square kernel\n",
        "        self.conv1 = nn.Conv2d(3, 6, 5)\n",
        "        # after applying this to a 3x32x32 image without padding or stride,\n",
        "        # the result will be 6x28x28\n",
        "\n",
        "        # max pooling with a 2x2 moving window\n",
        "        self.pool = nn.MaxPool2d(2, 2)\n",
        "        # after applying this to the 6x28x28 image, the result will be\n",
        "        # 6x14x14 (the channels are not affected)\n",
        "\n",
        "        # 6 channels input, 16 convolutional kernels -> 16 channels output,\n",
        "        # and also 5x5 square kernel\n",
        "        self.conv2 = nn.Conv2d(6, 16, 5)\n",
        "        # after applying this to a 6x14x14 image without padding or stride,\n",
        "        # the result will be 16x10x10\n",
        "\n",
        "        # Later in the actual forward pass, we will apply the maxpooling twice,\n",
        "        # but we only have to define it once, because it doesn't have any para-\n",
        "        # meters that we're backpropping through.\n",
        "        # So we know that we will apply MaxPool2d(2,2) again to the 16x10x10 image.\n",
        "        # Therefore the output of the convolutional layers will be 16x5x5.\n",
        "\n",
        "\n",
        "        # This layer definition requires that you did the convolution math.\n",
        "        # The final \"image\" will be 5 by 5 pixels and 16 channels deep, therefore\n",
        "        # the input is 16 * 5 * 5.\n",
        "        self.fc1 = nn.Linear(16 * 5 * 5, 120)\n",
        "\n",
        "        # The sizes of these layers are _completely_ arbitrary.\n",
        "        self.fc2 = nn.Linear(120, 84)\n",
        "\n",
        "        # ultimately our ouput will be a 10-element vector for each input image\n",
        "        # which corresponds to a one-hot encoding of a 0-9 integer\n",
        "        self.fc3 = nn.Linear(84, 10)\n",
        "\n",
        "    def forward(self, x):\n",
        "        # This function is for a single forward pass through the network.\n",
        "        # So you get the input, pass it through all the layers you defined above\n",
        "        # (!important, don't define any new layers here) and then return the final\n",
        "        # result.\n",
        "\n",
        "        # Apply, in that order: convolutional layer 1 (3,6,5), ReLU, MaxPool2d(2,2)\n",
        "        x = self.pool(F.relu(self.conv1(x)))\n",
        "\n",
        "        # Apply, in that order: convolutional layer 2 (6,16,5), ReLU, MaxPool2d(2,2)\n",
        "        x = self.pool(F.relu(self.conv2(x)))\n",
        "\n",
        "        # The input is still 3-dimensional (shape: 16x5x5). Here we transform it\n",
        "        # into a vector of size (16*5*5 = 400)\n",
        "        x = x.view(-1, 16 * 5 * 5)\n",
        "\n",
        "        # Pass it through fully connected layer 1 and then through ReLU\n",
        "        x = F.relu(self.fc1(x))\n",
        "\n",
        "        # Pass it through fully connected layer 2 and then through ReLU\n",
        "        x = F.relu(self.fc2(x))\n",
        "\n",
        "        # Pass it through the last layer WITHOUT RELU and return it\n",
        "        x = self.fc3(x)\n",
        "        return x\n",
        "\n",
        "\n",
        "# here we just instantiate the network, so we can go use it.\n",
        "net = Net()\n",
        "\n",
        "# and make sure it's using 32-bit floats (\"Float\"), not 64-bit floats (\"Double\")\n",
        "net = net.float()\n"
      ],
      "execution_count": 6,
      "outputs": []
    },
    {
      "cell_type": "markdown",
      "metadata": {
        "id": "UNUV5Bu3pVmb"
      },
      "source": [
        "**Step 7 (optional):** print the network"
      ]
    },
    {
      "cell_type": "code",
      "metadata": {
        "id": "xrqvdiBMpU8m",
        "colab": {
          "base_uri": "https://localhost:8080/"
        },
        "outputId": "982e8a1d-fb47-473a-ba8b-5d48b0b1e923"
      },
      "source": [
        "print (net)"
      ],
      "execution_count": 7,
      "outputs": [
        {
          "output_type": "stream",
          "name": "stdout",
          "text": [
            "Net(\n",
            "  (conv1): Conv2d(3, 6, kernel_size=(5, 5), stride=(1, 1))\n",
            "  (pool): MaxPool2d(kernel_size=2, stride=2, padding=0, dilation=1, ceil_mode=False)\n",
            "  (conv2): Conv2d(6, 16, kernel_size=(5, 5), stride=(1, 1))\n",
            "  (fc1): Linear(in_features=400, out_features=120, bias=True)\n",
            "  (fc2): Linear(in_features=120, out_features=84, bias=True)\n",
            "  (fc3): Linear(in_features=84, out_features=10, bias=True)\n",
            ")\n"
          ]
        }
      ]
    },
    {
      "cell_type": "markdown",
      "metadata": {
        "id": "WAGV4xUeq3NJ"
      },
      "source": [
        "**Step 8:** Test the network with random input"
      ]
    },
    {
      "cell_type": "code",
      "metadata": {
        "id": "JGRaNhUhq3tP",
        "colab": {
          "base_uri": "https://localhost:8080/"
        },
        "outputId": "e75b1a9b-2084-435f-b1b9-ff510cce416e"
      },
      "source": [
        "# create a single image (note how the color channel is in the front)\n",
        "dummy_input = np.random.uniform(low=0, high=1, size=(3,32,32)).astype(np.float32)\n",
        "\n",
        "# convert to Tensor:\n",
        "dummy_tensor = torch.from_numpy(dummy_input)\n",
        "\n",
        "print (\"old size:\", dummy_tensor.size())\n",
        "\n",
        "# IMPORTANT. torch works in batches. You can have a batch size of 1 (if it's only)\n",
        "# a single image, but you need to add the dimension (which you want to become the\n",
        "# new axis 0):\n",
        "\n",
        "dummy_tensor = dummy_tensor.unsqueeze(0)\n",
        "\n",
        "print (\"new size:\", dummy_tensor.size(),\"<--- see? There's a new first dimension!\")\n",
        "\n",
        "# now we can feed it into the network:\n",
        "prediction = net(dummy_tensor)\n",
        "\n",
        "print (\"prediction size:\",prediction.size(),\"<-- The output has the \" \\\n",
        "       \"same first dimension. That's the batch size!\")\n",
        "\n",
        "print (\"\")\n",
        "print (prediction)\n",
        "\n",
        "\n"
      ],
      "execution_count": 8,
      "outputs": [
        {
          "output_type": "stream",
          "name": "stdout",
          "text": [
            "old size: torch.Size([3, 32, 32])\n",
            "new size: torch.Size([1, 3, 32, 32]) <--- see? There's a new first dimension!\n",
            "prediction size: torch.Size([1, 10]) <-- The output has the same first dimension. That's the batch size!\n",
            "\n",
            "tensor([[ 0.0138, -0.0613,  0.0471, -0.0862, -0.1121,  0.0693,  0.1024, -0.0680,\n",
            "          0.0424,  0.0940]], grad_fn=<AddmmBackward0>)\n"
          ]
        }
      ]
    },
    {
      "cell_type": "markdown",
      "metadata": {
        "id": "Hlw_Lpuov2kR"
      },
      "source": [
        "**Step 9:** Start optimizing!"
      ]
    },
    {
      "cell_type": "code",
      "metadata": {
        "id": "cEVPURycv3My"
      },
      "source": [
        "import torch.optim as optim\n",
        "\n",
        "# instead of Mean Squared Error (MSE or \"L2\") loss we use CE loss here because\n",
        "# this has great performance if your output is categorical and ideally in range [0,1]\n",
        "criterion = nn.CrossEntropyLoss()\n",
        "\n",
        "# stochastic gradient descent... (There are better options)\n",
        "# and feed the net.parameters() to the optimizer - that's all the optimizable\n",
        "# parameters in the netwoprk\n",
        "optimizer = optim.SGD(net.parameters(), lr=0.001, momentum=0.9)"
      ],
      "execution_count": 9,
      "outputs": []
    },
    {
      "cell_type": "markdown",
      "metadata": {
        "id": "QzosG1H9pWhI"
      },
      "source": [
        "**Step 10:** Do a trial run of the optimization"
      ]
    },
    {
      "cell_type": "code",
      "metadata": {
        "id": "HU8wzIYQ4fYb",
        "colab": {
          "base_uri": "https://localhost:8080/"
        },
        "outputId": "0709a39d-d08c-4642-878a-1a3597cb3fea"
      },
      "source": [
        "# let's stack (\"concatenate\" - \"torch.cat()\") 4 images into a minibatch:\n",
        "inputs = torch.cat([dummy_tensor, dummy_tensor, dummy_tensor, dummy_tensor], dim=0).float()\n",
        "print (\"inputs.size()\", inputs.size())\n",
        "\n",
        "# let's make some dummy labels - notice how it's only the batch dimension\n",
        "labels = torch.zeros(4).long()\n",
        "print (\"labels.size()\",labels.size())\n",
        "\n",
        "# zero the parameter gradients (always do this during learning before every forward pass)\n",
        "optimizer.zero_grad()\n",
        "\n",
        "# predict the outputs\n",
        "outputs = net(inputs)\n",
        "print (\"outputs.size()\", outputs.size())\n",
        "\n",
        "# now we have a problem: our labels are unidimensional, but the prediction is\n",
        "# 10-dimensional (on purpose)... what do?\n",
        "# Answer: you can either spread out the ground truth into one-hot encoding\n",
        "# Or: you can use a loss function that can accept both: CrossEntropy.\n",
        "\n",
        "loss = criterion(outputs, labels) # apply the loss function, notice the format of\n",
        "# loss(prediction, ground_truth) <-- that's important\n",
        "\n",
        "# calculate the backpropagation values\n",
        "loss.backward()\n",
        "\n",
        "# apply the backprop values according to the optimizer\n",
        "optimizer.step()\n",
        "\n",
        "# And print loss - very important - PLOT THIS! If this doesn't go a lot lower\n",
        "# then you are done and the network is converged\n",
        "print (\"Loss:\", loss.item())\n",
        "\n",
        "# Now run this cell couple of times and watch the loss go down."
      ],
      "execution_count": 10,
      "outputs": [
        {
          "output_type": "stream",
          "name": "stdout",
          "text": [
            "inputs.size() torch.Size([4, 3, 32, 32])\n",
            "labels.size() torch.Size([4])\n",
            "outputs.size() torch.Size([4, 10])\n",
            "Loss: 2.2957229614257812\n"
          ]
        }
      ]
    },
    {
      "cell_type": "markdown",
      "metadata": {
        "id": "QIqVJoFc-Jtr"
      },
      "source": [
        "## Let's train on real data\n",
        "\n",
        "**Step 11:** Load the CIFAR-10 dataset\n",
        "\n",
        "(It's very small and you can download it directly through torch, without manually downloading it)"
      ]
    },
    {
      "cell_type": "code",
      "metadata": {
        "id": "iK-SL4jepWLb",
        "colab": {
          "base_uri": "https://localhost:8080/",
          "height": 101,
          "referenced_widgets": [
            "fd4443dd24524ebf94eebe0840e10a3b",
            "92ac944b98754dd79f0862eb1b8545ed",
            "5db7c6d4d58a4df4bd58ce96153854f8",
            "c2d48097cf0b4136ae760c52f6e4ef29",
            "034d2a62edf94c85bdd058945430159b",
            "d5c67577e57a45eb9b22e8e08b28bb27",
            "f01d43f6f38e48f2a70f09544fe01adf",
            "f506a5ecb7654a10bc83582e1b50b756",
            "f0bb06eba6204ffba48e299173367fe3",
            "f32b8bf6be524d0da224366f30f8b487",
            "9a3c633466d3438f95e24e994584d3b3"
          ]
        },
        "outputId": "d8c93659-1275-423d-f58d-0d791c1c2f4c"
      },
      "source": [
        "# torchvision has some helper functions for image-based dataset\n",
        "import torchvision\n",
        "\n",
        "# we want to apply certain things to all of our images - that's what transforms do\n",
        "import torchvision.transforms as transforms\n",
        "\n",
        "\n",
        "# we would like all of our incoming images to: become a torch Tensor\n",
        "# (instead of a numpy array) and we want to normalize all images\n",
        "# normalization: img = (img-mean)/standard_deviation\n",
        "transform = transforms.Compose(\n",
        "    [transforms.ToTensor(),\n",
        "     transforms.Normalize((0.5, 0.5, 0.5), (0.5, 0.5, 0.5))]) # parameters for\n",
        "# the normalization are mean and std for each channel\n",
        "\n",
        "\n",
        "# download the training part of the CIFAR-10 dataset and apply transforms\n",
        "trainset = torchvision.datasets.CIFAR10(root='./data', train=True,\n",
        "                                        download=True, transform=transform)\n",
        "\n",
        "# wrap that into a multi-threaded data loader for quicker multi-CPU data loading\n",
        "# and for being able to shuffle the data and sample whole batches and not just\n",
        "# single elements\n",
        "trainloader = torch.utils.data.DataLoader(trainset, batch_size=4,\n",
        "                                          shuffle=True, num_workers=0)\n",
        "\n",
        "# same thing for the test dataset\n",
        "\n",
        "testset = torchvision.datasets.CIFAR10(root='./data', train=False,\n",
        "                                       download=True, transform=transform)\n",
        "testloader = torch.utils.data.DataLoader(testset, batch_size=4,\n",
        "                                         shuffle=False, num_workers=0)\n",
        "\n",
        "# these are the names of the labels, corresponding to 0,1,2,3, etc.\n",
        "classes = ('plane', 'car', 'bird', 'cat',\n",
        "           'deer', 'dog', 'frog', 'horse', 'ship', 'truck')"
      ],
      "execution_count": 11,
      "outputs": [
        {
          "output_type": "stream",
          "name": "stdout",
          "text": [
            "Downloading https://www.cs.toronto.edu/~kriz/cifar-10-python.tar.gz to ./data/cifar-10-python.tar.gz\n"
          ]
        },
        {
          "output_type": "display_data",
          "data": {
            "text/plain": [
              "  0%|          | 0/170498071 [00:00<?, ?it/s]"
            ],
            "application/vnd.jupyter.widget-view+json": {
              "version_major": 2,
              "version_minor": 0,
              "model_id": "fd4443dd24524ebf94eebe0840e10a3b"
            }
          },
          "metadata": {}
        },
        {
          "output_type": "stream",
          "name": "stdout",
          "text": [
            "Extracting ./data/cifar-10-python.tar.gz to ./data\n",
            "Files already downloaded and verified\n"
          ]
        }
      ]
    },
    {
      "cell_type": "markdown",
      "metadata": {
        "id": "Uo3R7PjD_naz"
      },
      "source": [
        "**Step 12:** ALWAYS verify your data!\n",
        "\n",
        "Before running _any_ experiment, always look at your data and make sure it's what you expect it to be"
      ]
    },
    {
      "cell_type": "code",
      "metadata": {
        "id": "keA8Z3BmpXjb",
        "colab": {
          "base_uri": "https://localhost:8080/",
          "height": 262
        },
        "outputId": "8f27bfc2-c83c-4f0e-a945-89e84643b525"
      },
      "source": [
        "print (\"dataset length:\",len(trainset))\n",
        "\n",
        "image, label = trainset[0]\n",
        "\n",
        "print (\"single image (size):\",image.size()) # <-- this is a tensor\n",
        "print (\"single label:\",label) # <-- this is not, but it will be if we use the \"trainloader\" from above\n",
        "\n",
        "\n",
        "### now let's actually -look- at the images\n",
        "\n",
        "import matplotlib.pyplot as plt\n",
        "\n",
        "def imshow(img):\n",
        "    img = img / 2 + 0.5     # unnormalize\n",
        "    npimg = img.numpy()\n",
        "    plt.imshow(np.transpose(npimg, (1, 2, 0)))\n",
        "\n",
        "\n",
        "# get some random training images using the trainloader\n",
        "dataiter = iter(trainloader)\n",
        "images, labels = next(dataiter)\n",
        "\n",
        "# show images - make a grid of 4\n",
        "imshow(torchvision.utils.make_grid(images))\n",
        "\n",
        "# print labels\n",
        "print(' '.join('%5s' % classes[labels[j]] for j in range(4)))\n",
        "\n"
      ],
      "execution_count": 12,
      "outputs": [
        {
          "output_type": "stream",
          "name": "stdout",
          "text": [
            "dataset length: 50000\n",
            "single image (size): torch.Size([3, 32, 32])\n",
            "single label: 6\n",
            "truck  deer   car truck\n"
          ]
        },
        {
          "output_type": "display_data",
          "data": {
            "text/plain": [
              "<Figure size 640x480 with 1 Axes>"
            ],
            "image/png": "[encoded data removed]"
          },
          "metadata": {}
        }
      ]
    },
    {
      "cell_type": "code",
      "metadata": {
        "id": "M00f0zcJBRU0",
        "colab": {
          "base_uri": "https://localhost:8080/"
        },
        "outputId": "14a73e7b-caea-4944-fba5-9b6fee2a281a"
      },
      "source": [
        "print (images.min(), images.mean(), images.max()) # important to verify your distribution"
      ],
      "execution_count": 13,
      "outputs": [
        {
          "output_type": "stream",
          "name": "stdout",
          "text": [
            "tensor(-0.9922) tensor(0.0301) tensor(1.)\n"
          ]
        }
      ]
    },
    {
      "cell_type": "markdown",
      "metadata": {
        "id": "p3xcPfEdBv7f"
      },
      "source": [
        "## Let's glue it all together\n",
        "\n",
        "**Step 13:** Let's actually run the optimization in a loop with the dataset"
      ]
    },
    {
      "cell_type": "code",
      "metadata": {
        "id": "DlXmDQvxp-t_",
        "colab": {
          "base_uri": "https://localhost:8080/"
        },
        "outputId": "7967bc1b-26cb-4c67-e20c-549167a7dd10"
      },
      "source": [
        "print (\"[epoch, line of data]\")\n",
        "\n",
        "for epoch in range(2):  # loop over the dataset multiple times\n",
        "\n",
        "    running_loss = 0.0\n",
        "\n",
        "    for i, data in enumerate(trainloader, 0):\n",
        "\n",
        "        # get the inputs\n",
        "        inputs, labels = data\n",
        "\n",
        "        # zero the parameter gradients\n",
        "        optimizer.zero_grad()\n",
        "\n",
        "        # forward + backward + optimize\n",
        "        outputs = net(inputs)\n",
        "        loss = criterion(outputs, labels)\n",
        "        loss.backward()\n",
        "        optimizer.step()\n",
        "\n",
        "        # print statistics\n",
        "        running_loss += loss.item()\n",
        "\n",
        "        if i % 2000 == 1999:    # print every 2000 mini-batches\n",
        "            print('[{}, {}] \\tloss: {}'.format(\n",
        "                epoch + 1,\n",
        "                i + 1,\n",
        "                running_loss / 2000)\n",
        "                )\n",
        "\n",
        "            running_loss = 0.0\n",
        "\n",
        "print('Finished Training')\n"
      ],
      "execution_count": 14,
      "outputs": [
        {
          "output_type": "stream",
          "name": "stdout",
          "text": [
            "[epoch, line of data]\n",
            "[1, 2000] \tloss: 2.200274342060089\n",
            "[1, 4000] \tloss: 1.8947220413684844\n",
            "[1, 6000] \tloss: 1.6740154998898507\n",
            "[1, 8000] \tloss: 1.5822681087106467\n",
            "[1, 10000] \tloss: 1.527068680100143\n",
            "[1, 12000] \tloss: 1.478550386980176\n",
            "[2, 2000] \tloss: 1.4029825597032906\n",
            "[2, 4000] \tloss: 1.3704184580296277\n",
            "[2, 6000] \tloss: 1.3622120897397398\n",
            "[2, 8000] \tloss: 1.3592307803183794\n",
            "[2, 10000] \tloss: 1.3203937190771102\n",
            "[2, 12000] \tloss: 1.2817288416475057\n",
            "Finished Training\n"
          ]
        }
      ]
    },
    {
      "cell_type": "markdown",
      "metadata": {
        "id": "M-GoezmKDAUM"
      },
      "source": [
        "... Now go to the cells bellow (Step 14), and inspect the results. They're not very good, right?\n",
        "\n",
        "Then, copy the entire previous cell below and run again (to see how the loss converges to something if you run it long enough). Run Step 14 again. See how much better that was? Not perfect, but better.\n",
        "\n",
        "(Obviously, in a real setting, you'd use some kind of loop instead of copying the cell.)"
      ]
    },
    {
      "cell_type": "code",
      "metadata": {
        "id": "Xwy6XDPeqOeG"
      },
      "source": [
        "# insert code here"
      ],
      "execution_count": null,
      "outputs": []
    },
    {
      "cell_type": "markdown",
      "metadata": {
        "id": "Y_Rr6QLMDaj9"
      },
      "source": [
        "**Step 14:** Inspection - manually check your predictions"
      ]
    },
    {
      "cell_type": "code",
      "metadata": {
        "id": "Aw0ZJEo_Dhqf",
        "colab": {
          "base_uri": "https://localhost:8080/",
          "height": 210
        },
        "outputId": "3d9126c1-c75b-4e3b-f89a-888ee8c35b1d"
      },
      "source": [
        "dataiter = iter(testloader)\n",
        "images, labels = next(dataiter)\n",
        "\n",
        "# print images\n",
        "imshow(torchvision.utils.make_grid(images))\n",
        "\n",
        "print('GroundTruth: ', ' '.join('%5s' % classes[labels[j]] for j in range(4)))"
      ],
      "execution_count": 15,
      "outputs": [
        {
          "output_type": "stream",
          "name": "stdout",
          "text": [
            "GroundTruth:    cat  ship  ship plane\n"
          ]
        },
        {
          "output_type": "display_data",
          "data": {
            "text/plain": [
              "<Figure size 640x480 with 1 Axes>"
            ],
            "image/png": "[encoded data removed]"
          },
          "metadata": {}
        }
      ]
    },
    {
      "cell_type": "code",
      "metadata": {
        "id": "S9H_rNT7Dj4b",
        "colab": {
          "base_uri": "https://localhost:8080/"
        },
        "outputId": "4c5c05d6-658c-4668-d920-d010c1115b26"
      },
      "source": [
        "# now let's get the net's predictions\n",
        "outputs = net(images)\n",
        "\n",
        "# argmax the 10 dimensions into one\n",
        "_, predicted = torch.max(outputs, 1)\n",
        "\n",
        "# get the names of the labels for each int label\n",
        "print('Predicted: ', ' '.join('%5s' % classes[predicted[j]]\n",
        "                              for j in range(4)))"
      ],
      "execution_count": 16,
      "outputs": [
        {
          "output_type": "stream",
          "name": "stdout",
          "text": [
            "Predicted:    cat  ship   car  ship\n"
          ]
        }
      ]
    },
    {
      "cell_type": "markdown",
      "metadata": {
        "id": "pkBge1WNEaq7"
      },
      "source": [
        "**Step 15:** Actually get a numerical evaluation"
      ]
    },
    {
      "cell_type": "code",
      "metadata": {
        "id": "zdU9PGW-D2OU",
        "colab": {
          "base_uri": "https://localhost:8080/"
        },
        "outputId": "158619ad-6944-4c60-87df-c31cfa716f09"
      },
      "source": [
        "correct = 0\n",
        "total = 0\n",
        "\n",
        "# If we're not learning anything then we use the torch.no_grad() environment.\n",
        "# In this environment no gradients are ever calculated.\n",
        "with torch.no_grad():\n",
        "    for data in testloader:\n",
        "\n",
        "        images, labels = data\n",
        "        outputs = net(images)\n",
        "\n",
        "        _, predicted = torch.max(outputs.data, 1)\n",
        "\n",
        "        total += labels.size(0)\n",
        "        correct += (predicted == labels).sum().item()\n",
        "\n",
        "print(\"Accuracy of the network on the \" \\\n",
        "      \"10000 test images: {}%\".format(100 * correct / total))"
      ],
      "execution_count": 17,
      "outputs": [
        {
          "output_type": "stream",
          "name": "stdout",
          "text": [
            "Accuracy of the network on the 10000 test images: 54.27%\n"
          ]
        }
      ]
    },
    {
      "cell_type": "markdown",
      "metadata": {
        "id": "F_tnvMSIHcG5"
      },
      "source": [
        "~60% is not very accurate. You can do much better.\n",
        "\n",
        "## \"Homework\"\n",
        "\n",
        "**Goal: improve the score, i.e. the test set accuracy**\n",
        "\n",
        "We won't verify how you do on this, so this is just so you can learn about neural networks.\n",
        "\n",
        "Ideas:\n",
        "- try out a different optimizer\n",
        "- try out more training epochs\n",
        "- try out a bigger neural network (more hidden nodes or more layers)\n",
        "- try plotting the loss over time and stop training when the loss converges\n",
        "- (if you're fancy) try out dataset augmentation - that means applying more transformations to your images before feeding them to the network - like random rotation, random noise, etc. Here's a ist of all transforms: https://pytorch.org/docs/stable/torchvision/transforms.html"
      ]
    },
    {
      "cell_type": "markdown",
      "metadata": {
        "id": "l6U8lU-xgQyW"
      },
      "source": [
        "# Contributors\n",
        " - [Florian Golemo](https://fgolemo.github.io/)\n",
        " - [Bhairav Mehta](https://bhairavmehta95.github.io/)\n",
        " - [Charlie Gauthier](https://ca.linkedin.com/in/charlie-gauthier)\n"
      ]
    }
  ]
}